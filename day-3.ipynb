{
 "cells": [
  {
   "cell_type": "markdown",
   "id": "29f1305f",
   "metadata": {},
   "source": [
    "<h1>Day 3 </h1>"
   ]
  },
  {
   "cell_type": "code",
   "execution_count": null,
   "id": "4a233da8",
   "metadata": {},
   "outputs": [],
   "source": [
    "# int\n",
    "print(int(4.0))\n",
    "print(int('4'))\n",
    "\n",
    "a = int(4.0)\n",
    "a = int('4')    #str to int yes\n",
    "a = int('4.0')  #not possible to convert float to int\n",
    "a = int(float('4.0')) #convert float to int\n",
    "print (a)"
   ]
  },
  {
   "cell_type": "code",
   "execution_count": null,
   "id": "fec1c63d",
   "metadata": {},
   "outputs": [],
   "source": [
    "# float\n",
    "a = float(4)\n",
    "a = float('-2.5')\n",
    "a = float(True)\n",
    "a = float(False)\n",
    "a = float(False)\n",
    "a = float('False') #not possible to convert string to float\n",
    "a = float('') #not possible as well\n",
    "\n",
    "print (a)"
   ]
  },
  {
   "cell_type": "code",
   "execution_count": null,
   "id": "3f58f052",
   "metadata": {},
   "outputs": [
    {
     "name": "stdout",
     "output_type": "stream",
     "text": [
      "True\n"
     ]
    }
   ],
   "source": [
    "# bool\n",
    "a = bool(4)\n",
    "a = bool(-1)\n",
    "a = bool(0)\n",
    "a = bool(0.0)\n",
    "a = bool(-0.000000)\n",
    "a = bool(0.000000000000000001)\n",
    "a = bool(None)\n",
    "a = bool('')\n",
    "\n",
    "print (a)"
   ]
  },
  {
   "cell_type": "code",
   "execution_count": null,
   "id": "3106424e",
   "metadata": {},
   "outputs": [
    {
     "name": "stdout",
     "output_type": "stream",
     "text": [
      "True\n",
      "<class 'str'>\n"
     ]
    },
    {
     "data": {
      "text/plain": [
       "(None, None)"
      ]
     },
     "execution_count": 4,
     "metadata": {},
     "output_type": "execute_result"
    }
   ],
   "source": [
    "# str\n",
    "a = str(1)\n",
    "a = str(True)\n",
    "a = str(False)\n",
    "a = str(None)\n",
    "a = str(-2.5)\n",
    "\n",
    "print (a), print(type(a))\n"
   ]
  },
  {
   "cell_type": "code",
   "execution_count": null,
   "id": "7f4fcd2b",
   "metadata": {},
   "outputs": [],
   "source": [
    "a = bool(str(float(-2))) # string of '-2.0'\n",
    "\n",
    "print (a, type(a))"
   ]
  },
  {
   "cell_type": "code",
   "execution_count": null,
   "id": "c90f1981",
   "metadata": {},
   "outputs": [],
   "source": [
    "a = 5\n",
    "a = True\n",
    "# dynamical-typed programming language"
   ]
  },
  {
   "cell_type": "markdown",
   "id": "54871a00",
   "metadata": {},
   "source": [
    "<h1>Mathematical Operations</h1>"
   ]
  },
  {
   "cell_type": "code",
   "execution_count": 6,
   "id": "51b30cc3",
   "metadata": {},
   "outputs": [
    {
     "name": "stdout",
     "output_type": "stream",
     "text": [
      "15\n"
     ]
    }
   ],
   "source": [
    "a = 2 + 6\n",
    "b = 7\n",
    "print (a+b)"
   ]
  },
  {
   "cell_type": "code",
   "execution_count": null,
   "id": "85b2ac46",
   "metadata": {},
   "outputs": [
    {
     "name": "stdout",
     "output_type": "stream",
     "text": [
      "39\n",
      "2.0\n",
      "2\n",
      "8\n",
      "1.4142135623730951\n",
      "1.3459001926323562\n",
      "1\n"
     ]
    }
   ],
   "source": [
    "# use sum function so we dont have to type + everytime\n",
    "a = sum((2, 6, 10, 4, 7))\n",
    "b = 7 + 3\n",
    "c = 7 - 3\n",
    "d = 6 * 4\n",
    "e = 8 / 4\n",
    "f = 8 // 4  \n",
    "g = 2 ** 3\n",
    "h = 2 ** 0.5\n",
    "i = 8 ** (1/7) # root using fraction exponent\n",
    "j = 7 % 3 # remainder\n",
    "j = -12.5 % True\n",
    "j = -12.5 % False\n",
    "print (a+b)\n",
    "print (e) # why get 2.0 which is a float\n",
    "print (f) # so we use double slash to get integer\n",
    "print (g)\n",
    "print (h)\n",
    "print (i)\n",
    "print (j)"
   ]
  },
  {
   "cell_type": "code",
   "execution_count": 14,
   "id": "34291769",
   "metadata": {},
   "outputs": [
    {
     "name": "stdout",
     "output_type": "stream",
     "text": [
      "2\n",
      "2\n"
     ]
    }
   ],
   "source": [
    "print ( 8 // 3)\n",
    "print (int(8/3))"
   ]
  },
  {
   "cell_type": "code",
   "execution_count": null,
   "id": "8351f857",
   "metadata": {},
   "outputs": [
    {
     "name": "stdout",
     "output_type": "stream",
     "text": [
      "1\n"
     ]
    }
   ],
   "source": [
    "a = 0 ** 0 \n",
    "print (a)\n"
   ]
  },
  {
   "cell_type": "code",
   "execution_count": 21,
   "id": "66ad6428",
   "metadata": {},
   "outputs": [
    {
     "data": {
      "text/plain": [
       "0.30000000000000004"
      ]
     },
     "execution_count": 21,
     "metadata": {},
     "output_type": "execute_result"
    }
   ],
   "source": [
    "# why?\n",
    "7/3\n",
    "0.1 + 0.2"
   ]
  },
  {
   "cell_type": "markdown",
   "id": "54f9dba3",
   "metadata": {},
   "source": [
    "<h1>Order of Operations </h1>"
   ]
  },
  {
   "cell_type": "code",
   "execution_count": null,
   "id": "c004f760",
   "metadata": {},
   "outputs": [],
   "source": [
    "a = 2 * 2 - 2 / 2 - 2 ** 2\n",
    "a = (2 * 2) - (2 / 2) - (2 ** 2) # first way\n",
    "a = 2*2 - 2/2 - 2**2# second way\n"
   ]
  },
  {
   "cell_type": "markdown",
   "id": "dc917414",
   "metadata": {},
   "source": [
    "<h1>Variable Adjustments</h1>"
   ]
  },
  {
   "cell_type": "code",
   "execution_count": null,
   "id": "a6631499",
   "metadata": {},
   "outputs": [
    {
     "name": "stdout",
     "output_type": "stream",
     "text": [
      "1.5\n"
     ]
    }
   ],
   "source": [
    "a = 4 + 4 # 8\n",
    "b = 3 * 2 # 6\n",
    "a = a + 1 # 9\n",
    "a = a // 2 # 4\n",
    "a = b / a # 6 / 4\n",
    "print (a)"
   ]
  },
  {
   "cell_type": "markdown",
   "id": "330789ff",
   "metadata": {},
   "source": [
    "<h1>Short Hand</h1>"
   ]
  },
  {
   "cell_type": "code",
   "execution_count": null,
   "id": "fceb00c8",
   "metadata": {},
   "outputs": [],
   "source": [
    "a = a + 1\n",
    "a += 1\n",
    "\n",
    "a = a - 5\n",
    "a -= 5\n",
    "\n",
    "a = a * 3\n",
    "a *= 3\n",
    "\n",
    "a = a // 2\n",
    "a //= 2\n",
    "\n",
    "a = a ** 2\n",
    "a **= 2\n",
    "\n",
    "a = 4\n",
    "a **= 2\n",
    "\n",
    "a = 5\n",
    "a = a % 3\n",
    "a %= 3\n"
   ]
  },
  {
   "cell_type": "markdown",
   "id": "e29bad84",
   "metadata": {},
   "source": [
    "<h1>Logical Operations</h1>"
   ]
  },
  {
   "cell_type": "code",
   "execution_count": null,
   "id": "e0dfe258",
   "metadata": {},
   "outputs": [],
   "source": [
    "'Proposition' (n.): statement that you can assign boolean value to it.\n",
    "\n",
    "'You are male.' is a proposition.\n",
    "\n",
    "'Are you male?' is not a proposition.\n",
    "\n"
   ]
  },
  {
   "cell_type": "code",
   "execution_count": null,
   "id": "3c4638d9",
   "metadata": {},
   "outputs": [],
   "source": [
    "a = 5\n",
    "2 > 3 # False\n",
    "2 < 3 # True\n",
    "2 == 3 # False\n",
    "2 != 3 # True\n",
    "2 >= 3 # False\n",
    "2 <= 3 # True"
   ]
  },
  {
   "cell_type": "code",
   "execution_count": null,
   "id": "967e0f4e",
   "metadata": {},
   "outputs": [
    {
     "name": "stdout",
     "output_type": "stream",
     "text": [
      "False\n",
      "False\n",
      "True\n"
     ]
    },
    {
     "data": {
      "text/plain": [
       "False"
      ]
     },
     "execution_count": 26,
     "metadata": {},
     "output_type": "execute_result"
    }
   ],
   "source": [
    "print (4 > 3 > 3 > 2) # is false because the statement is false\n",
    "print (not True)\n",
    "print((not 1 > 2))\n",
    "2 > 3 and 3 > 1 # False need to be true for both slides\n",
    "2 > 3 or 3 > 1 # True either side"
   ]
  },
  {
   "cell_type": "code",
   "execution_count": null,
   "id": "11b57c84",
   "metadata": {},
   "outputs": [],
   "source": []
  },
  {
   "cell_type": "code",
   "execution_count": 28,
   "id": "72add963",
   "metadata": {},
   "outputs": [
    {
     "name": "stdout",
     "output_type": "stream",
     "text": [
      "True\n"
     ]
    }
   ],
   "source": [
    "a = 0 \n",
    "b = 2\n",
    "print(a != b-1 or a)"
   ]
  },
  {
   "cell_type": "code",
   "execution_count": null,
   "id": "5266abd9",
   "metadata": {},
   "outputs": [
    {
     "name": "stdout",
     "output_type": "stream",
     "text": [
      "True\n",
      "5\n",
      "True\n"
     ]
    }
   ],
   "source": [
    "print(True or 0)\n",
    "print(True and 0)\n",
    "print(0 or 0)\n",
    "print(5 and True)\n",
    "print(5 or True)\n",
    "print(True or 5)"
   ]
  },
  {
   "cell_type": "code",
   "execution_count": 29,
   "id": "9b5173ea",
   "metadata": {},
   "outputs": [
    {
     "name": "stdout",
     "output_type": "stream",
     "text": [
      "0\n"
     ]
    }
   ],
   "source": [
    "print(False or 0)"
   ]
  }
 ],
 "metadata": {
  "kernelspec": {
   "display_name": "Python 3",
   "language": "python",
   "name": "python3"
  },
  "language_info": {
   "codemirror_mode": {
    "name": "ipython",
    "version": 3
   },
   "file_extension": ".py",
   "mimetype": "text/x-python",
   "name": "python",
   "nbconvert_exporter": "python",
   "pygments_lexer": "ipython3",
   "version": "3.12.5"
  }
 },
 "nbformat": 4,
 "nbformat_minor": 5
}
