{
 "cells": [
  {
   "cell_type": "code",
   "execution_count": 3,
   "id": "e0ea0056",
   "metadata": {},
   "outputs": [
    {
     "name": "stdout",
     "output_type": "stream",
     "text": [
      "42252.8\n"
     ]
    }
   ],
   "source": [
    "#30 Celcius to 86 Farenheit\n",
    "\n",
    "Celcius = float(input(\"Enter Celcius: \"))\n",
    "Farenheit = Celcius*9/5 + 32\n",
    "print(Farenheit)"
   ]
  }
 ],
 "metadata": {
  "kernelspec": {
   "display_name": "Python 3",
   "language": "python",
   "name": "python3"
  },
  "language_info": {
   "codemirror_mode": {
    "name": "ipython",
    "version": 3
   },
   "file_extension": ".py",
   "mimetype": "text/x-python",
   "name": "python",
   "nbconvert_exporter": "python",
   "pygments_lexer": "ipython3",
   "version": "3.12.5"
  }
 },
 "nbformat": 4,
 "nbformat_minor": 5
}
