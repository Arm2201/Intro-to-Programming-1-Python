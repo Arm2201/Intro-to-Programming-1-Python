{
 "cells": [
  {
   "cell_type": "code",
   "execution_count": null,
   "id": "e0ea0056",
   "metadata": {},
   "outputs": [],
   "source": [
    "#30 Celcius to 86 Farenheit\n",
    "\n",
    "Celcius = 30\n",
    "Farenheit = Celcius*9/5 + 32\n",
    "print(Farenheit)"
   ]
  }
 ],
 "metadata": {
  "language_info": {
   "name": "python"
  }
 },
 "nbformat": 4,
 "nbformat_minor": 5
}
