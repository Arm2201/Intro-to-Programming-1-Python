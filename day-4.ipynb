{
 "cells": [
  {
   "cell_type": "code",
   "execution_count": null,
   "id": "e0ea0056",
   "metadata": {},
   "outputs": [
    {
     "name": "stdout",
     "output_type": "stream",
     "text": [
      "42252.8\n"
     ]
    }
   ],
   "source": [
    "#30 Celcius to 86 Farenheit\n",
    "\n",
    "celcius = float(input(\"Enter Celcius: \"))\n",
    "farenheit = celcius * ( 9 / 5 ) + 32\n",
    "print(farenheit)"
   ]
  },
  {
   "cell_type": "code",
   "execution_count": null,
   "id": "f052ab6c",
   "metadata": {},
   "outputs": [],
   "source": [
    "NAME = 'Arm' # all cap in the variable name means that it will not be change in the future\n",
    "name = 'A' # will be change in the future"
   ]
  },
  {
   "cell_type": "markdown",
   "id": "fcb4ef65",
   "metadata": {},
   "source": [
    "<h1>Math Functions</h1>"
   ]
  },
  {
   "cell_type": "code",
   "execution_count": 6,
   "id": "c31fe13a",
   "metadata": {},
   "outputs": [
    {
     "name": "stdout",
     "output_type": "stream",
     "text": [
      "13\n",
      "4\n",
      "23\n",
      "2\n",
      "3 2\n"
     ]
    }
   ],
   "source": [
    "print(abs(-13))\n",
    "print(min(23, 12, 4, 5, 6))\n",
    "print(max(23, 12, 4, 5, 6))\n",
    "print(round(2.45))\n",
    "print(round(2.6), int(2.6))"
   ]
  },
  {
   "cell_type": "code",
   "execution_count": null,
   "id": "6001eb78",
   "metadata": {},
   "outputs": [
    {
     "data": {
      "text/plain": [
       "2.45"
      ]
     },
     "execution_count": 10,
     "metadata": {},
     "output_type": "execute_result"
    }
   ],
   "source": [
    "round(2.45, 2) # 2 is the decimal place"
   ]
  },
  {
   "cell_type": "code",
   "execution_count": 9,
   "id": "a92d8090",
   "metadata": {},
   "outputs": [
    {
     "data": {
      "text/plain": [
       "-1.256"
      ]
     },
     "execution_count": 9,
     "metadata": {},
     "output_type": "execute_result"
    }
   ],
   "source": [
    "round(-1.2563, 3)"
   ]
  },
  {
   "cell_type": "code",
   "execution_count": 8,
   "id": "a806599e",
   "metadata": {},
   "outputs": [
    {
     "data": {
      "text/plain": [
       "1000"
      ]
     },
     "execution_count": 8,
     "metadata": {},
     "output_type": "execute_result"
    }
   ],
   "source": [
    "round(986, -2)"
   ]
  },
  {
   "cell_type": "markdown",
   "id": "da47d8ef",
   "metadata": {},
   "source": [
    "## Conditionals"
   ]
  },
  {
   "cell_type": "code",
   "execution_count": null,
   "id": "a953bfc4",
   "metadata": {},
   "outputs": [
    {
     "name": "stdout",
     "output_type": "stream",
     "text": [
      "hi\n"
     ]
    }
   ],
   "source": [
    "x = 5\n",
    "if (not x > 6) or (x < 4): # if the first thing is already true then it will not read the second one\n",
    "    print ('hi')"
   ]
  },
  {
   "cell_type": "code",
   "execution_count": 12,
   "id": "463133ee",
   "metadata": {},
   "outputs": [
    {
     "name": "stdout",
     "output_type": "stream",
     "text": [
      "A\n",
      "C\n",
      "D\n"
     ]
    }
   ],
   "source": [
    "if 5 > 4:\n",
    "    print('A')\n",
    "print('C')\n",
    "\n",
    "if 6 < 3:\n",
    "    print('B')\n",
    "print('D')"
   ]
  },
  {
   "cell_type": "code",
   "execution_count": null,
   "id": "3091a876",
   "metadata": {},
   "outputs": [
    {
     "name": "stdout",
     "output_type": "stream",
     "text": [
      "12\n"
     ]
    }
   ],
   "source": []
  }
 ],
 "metadata": {
  "kernelspec": {
   "display_name": "Python 3",
   "language": "python",
   "name": "python3"
  },
  "language_info": {
   "codemirror_mode": {
    "name": "ipython",
    "version": 3
   },
   "file_extension": ".py",
   "mimetype": "text/x-python",
   "name": "python",
   "nbconvert_exporter": "python",
   "pygments_lexer": "ipython3",
   "version": "3.12.5"
  }
 },
 "nbformat": 4,
 "nbformat_minor": 5
}
