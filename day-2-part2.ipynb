{
 "cells": [
  {
   "cell_type": "code",
   "execution_count": null,
   "id": "93bc1743",
   "metadata": {},
   "outputs": [],
   "source": [
    "# int\n",
    "# 1,2,0,-1,-2,-0\n",
    "\n",
    "# float\n",
    "# 1.0, 2.0, 0.0, -1.0, -2.0, -0.0\n",
    "\n",
    "# string\n",
    "# 'Hello World', 'Goodbye', 'I am changing this file as well.'\n",
    "\n",
    "\n",
    "str(4)\n",
    "\n",
    "# boolean\n",
    "bool()\n",
    "\n",
    "# snake_case (for naming variables)\n",
    "founded_year_utcc_admission_deparament = 1980\n",
    "\n",
    "# camalCase (for naming in java scripts)\n",
    "foundedYearUtccAdmissionDeparament = 1980\n",
    "\n",
    "# PascalCase (for naming class)\n",
    "FoundedYearUtccAdmissionDeparament = 1980\n",
    "\n",
    "# use \\ and enter to break long string into two line so it doesn't exceed the 60-79 character limit and it will still be on the same line when you run it\n",
    "message = \"HalloooooHalloooooHalloooooHalloooooHalloooooHalloooooHalloooooHal?\" \\\n",
    "\"loooooHallooooovvvvvvvvvvHalloooooHalloooooHalloooooHalloooooHalloooooHallooooo\"\n"
   ]
  },
  {
   "cell_type": "code",
   "execution_count": null,
   "id": "48ed6c38",
   "metadata": {},
   "outputs": [
    {
     "name": "stdout",
     "output_type": "stream",
     "text": [
      "Hello, World!\n",
      "True\n"
     ]
    }
   ],
   "source": [
    "print('Hello, World!')\n",
    "print(isinstance(-0, int))"
   ]
  },
  {
   "cell_type": "markdown",
   "id": "d7687917",
   "metadata": {},
   "source": [
    "<h1>Input</h1>\n",
    "\n"
   ]
  },
  {
   "cell_type": "code",
   "execution_count": 15,
   "id": "3b18ee04",
   "metadata": {},
   "outputs": [
    {
     "name": "stdout",
     "output_type": "stream",
     "text": [
      "23\n"
     ]
    }
   ],
   "source": [
    "age = int(input())\n",
    "print(age+1)\n",
    "\n"
   ]
  }
 ],
 "metadata": {
  "kernelspec": {
   "display_name": "Python 3",
   "language": "python",
   "name": "python3"
  },
  "language_info": {
   "codemirror_mode": {
    "name": "ipython",
    "version": 3
   },
   "file_extension": ".py",
   "mimetype": "text/x-python",
   "name": "python",
   "nbconvert_exporter": "python",
   "pygments_lexer": "ipython3",
   "version": "3.12.5"
  }
 },
 "nbformat": 4,
 "nbformat_minor": 5
}
